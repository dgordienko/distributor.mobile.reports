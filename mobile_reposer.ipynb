{
 "metadata": {
  "language_info": {
   "codemirror_mode": {
    "name": "ipython",
    "version": 3
   },
   "file_extension": ".py",
   "mimetype": "text/x-python",
   "name": "python",
   "nbconvert_exporter": "python",
   "pygments_lexer": "ipython3",
   "version": "3.9.2-final"
  },
  "orig_nbformat": 2,
  "kernelspec": {
   "name": "python3",
   "display_name": "Python 3.9.2 64-bit ('venv')",
   "metadata": {
    "interpreter": {
     "hash": "41ebd6348c999265156152cedc70467aa463aab3b65be8fc597697197b509ee9"
    }
   }
  }
 },
 "nbformat": 4,
 "nbformat_minor": 2,
 "cells": [
  {
   "cell_type": "code",
   "execution_count": 19,
   "metadata": {},
   "outputs": [],
   "source": [
    "import pandas as pd\n",
    "creteria0 = '{} 00:00:00'.format('22-03-2021.csv'.split('.')[0])\n",
    "orders0 = pd.read_csv('22-03-2021.csv')\n",
    "orders0 = orders0[orders0['CREATE_DATE'] == '2021-03-22 00:00:00']\n",
    "creteria1 = '{} 00:00:00'.format('23-03-2021.csv'.split('.')[0])\n",
    "orders1 = pd.read_csv('23-03-2021.csv')\n",
    "orders1 = orders1[orders1['CREATE_DATE'] == '2021-03-23 00:00:00']\n",
    "\n",
    "creteria2 = '{} 00:00:00'.format('24-03-2021.csv'.split('.')[0])\n",
    "orders2 = pd.read_csv('24-03-2021.csv')\n",
    "orders2 = orders2[orders2['CREATE_DATE'] == '2021-03-24 00:00:00']\n",
    "\n",
    "\n",
    "distributor_mobile0 = orders0[orders0['CONTRACT_NAME'] != 'ПИВО']\n",
    "distributor_mobile0 = distributor_mobile0[distributor_mobile0['CREATED_BY'] == 'admin'].groupby('CONTRACT_NAME').count()\n",
    "distributor_mobile0 = distributor_mobile0[['ROWID']]\n",
    "distributor_mobile0 = distributor_mobile0.rename(columns={'ROWID':'Distributor.Mobile'})\n",
    "\n",
    "distributor_mobile1 = orders1[orders1['CONTRACT_NAME'] != 'ПИВО']\n",
    "distributor_mobile1 = distributor_mobile1[distributor_mobile1['CREATED_BY'] == 'admin'].groupby('CONTRACT_NAME').count()\n",
    "distributor_mobile1 = distributor_mobile1[['ROWID']]\n",
    "distributor_mobile1 = distributor_mobile1.rename(columns={'ROWID':'Distributor.Mobile'})\n",
    "\n",
    "distributor_mobile2 = orders2[orders2['CONTRACT_NAME'] != 'ПИВО']\n",
    "distributor_mobile2 = distributor_mobile2[distributor_mobile2['CREATED_BY'] == 'admin'].groupby('CONTRACT_NAME').count()\n",
    "distributor_mobile2 = distributor_mobile2[['ROWID']]\n",
    "distributor_mobile2 = distributor_mobile2.rename(columns={'ROWID':'Distributor.Mobile'})\n",
    "\n",
    "\n",
    "except_bear0 = orders0[orders0['CONTRACT_NAME'] != 'ПИВО'].groupby('CONTRACT_NAME').count()\n",
    "except_bear0 = except_bear0[['ROWID']]\n",
    "except_bear0 = except_bear0.rename(columns={'ROWID':'Всего РН'})\n",
    "\n",
    "except_bear1 = orders1[orders1['CONTRACT_NAME'] != 'ПИВО'].groupby('CONTRACT_NAME').count()\n",
    "except_bear1 = except_bear1[['ROWID']]\n",
    "except_bear1 = except_bear1.rename(columns={'ROWID':'Всего РН'})\n",
    "\n",
    "except_bear2 = orders2[orders2['CONTRACT_NAME'] != 'ПИВО'].groupby('CONTRACT_NAME').count()\n",
    "except_bear2 = except_bear2[['ROWID']]\n",
    "except_bear2 = except_bear2.rename(columns={'ROWID':'Всего РН'})\n",
    "\n",
    "\n",
    "report0 = pd.concat([except_bear0,distributor_mobile0], axis=1, join=\"inner\")\n",
    "report0['%'] = round(report0['Distributor.Mobile']/report0['Всего РН'] * 100)\n",
    "report1 = pd.concat([except_bear1,distributor_mobile1], axis=1, join=\"inner\")\n",
    "report1['%'] = round(report1['Distributor.Mobile']/report1['Всего РН'] * 100)\n",
    "report2 = pd.concat([except_bear2,distributor_mobile2], axis=1, join=\"inner\")\n",
    "report2['%'] = round(report2['Distributor.Mobile']/report2['Всего РН'] * 100)\n",
    "\n"
   ]
  },
  {
   "cell_type": "code",
   "execution_count": 22,
   "metadata": {},
   "outputs": [
    {
     "output_type": "stream",
     "name": "stdout",
     "text": [
      "22.03 -> 23.03 -> 24.03\n"
     ]
    },
    {
     "output_type": "execute_result",
     "data": {
      "text/plain": [
       "               Всего РН  Distributor.Mobile     %  Всего РН  \\\n",
       "CONTRACT_NAME                                                 \n",
       "ЗАМ                 411                 217  53.0       321   \n",
       "ЛИМО                210                  75  36.0       192   \n",
       "МАК ВИН             711                 380  53.0       608   \n",
       "Сандора             365                 149  41.0       329   \n",
       "ХОЛОД              1058                 500  47.0       848   \n",
       "\n",
       "               Distributor.Mobile     %  Всего РН  Distributor.Mobile     %  \n",
       "CONTRACT_NAME                                                                \n",
       "ЗАМ                           151  47.0       261                 127  49.0  \n",
       "ЛИМО                           68  35.0       197                  61  31.0  \n",
       "МАК ВИН                       255  42.0       520                 309  59.0  \n",
       "Сандора                       147  45.0       253                 137  54.0  \n",
       "ХОЛОД                         350  41.0       692                 340  49.0  "
      ],
      "text/html": "<div>\n<style scoped>\n    .dataframe tbody tr th:only-of-type {\n        vertical-align: middle;\n    }\n\n    .dataframe tbody tr th {\n        vertical-align: top;\n    }\n\n    .dataframe thead th {\n        text-align: right;\n    }\n</style>\n<table border=\"1\" class=\"dataframe\">\n  <thead>\n    <tr style=\"text-align: right;\">\n      <th></th>\n      <th>Всего РН</th>\n      <th>Distributor.Mobile</th>\n      <th>%</th>\n      <th>Всего РН</th>\n      <th>Distributor.Mobile</th>\n      <th>%</th>\n      <th>Всего РН</th>\n      <th>Distributor.Mobile</th>\n      <th>%</th>\n    </tr>\n    <tr>\n      <th>CONTRACT_NAME</th>\n      <th></th>\n      <th></th>\n      <th></th>\n      <th></th>\n      <th></th>\n      <th></th>\n      <th></th>\n      <th></th>\n      <th></th>\n    </tr>\n  </thead>\n  <tbody>\n    <tr>\n      <th>ЗАМ</th>\n      <td>411</td>\n      <td>217</td>\n      <td>53.0</td>\n      <td>321</td>\n      <td>151</td>\n      <td>47.0</td>\n      <td>261</td>\n      <td>127</td>\n      <td>49.0</td>\n    </tr>\n    <tr>\n      <th>ЛИМО</th>\n      <td>210</td>\n      <td>75</td>\n      <td>36.0</td>\n      <td>192</td>\n      <td>68</td>\n      <td>35.0</td>\n      <td>197</td>\n      <td>61</td>\n      <td>31.0</td>\n    </tr>\n    <tr>\n      <th>МАК ВИН</th>\n      <td>711</td>\n      <td>380</td>\n      <td>53.0</td>\n      <td>608</td>\n      <td>255</td>\n      <td>42.0</td>\n      <td>520</td>\n      <td>309</td>\n      <td>59.0</td>\n    </tr>\n    <tr>\n      <th>Сандора</th>\n      <td>365</td>\n      <td>149</td>\n      <td>41.0</td>\n      <td>329</td>\n      <td>147</td>\n      <td>45.0</td>\n      <td>253</td>\n      <td>137</td>\n      <td>54.0</td>\n    </tr>\n    <tr>\n      <th>ХОЛОД</th>\n      <td>1058</td>\n      <td>500</td>\n      <td>47.0</td>\n      <td>848</td>\n      <td>350</td>\n      <td>41.0</td>\n      <td>692</td>\n      <td>340</td>\n      <td>49.0</td>\n    </tr>\n  </tbody>\n</table>\n</div>"
     },
     "metadata": {},
     "execution_count": 22
    }
   ],
   "source": [
    "report = pd.concat([report0,report1, report2], axis=1, join=\"inner\")\n",
    "print('22.03 -> 23.03 -> 24.03')\n",
    "report"
   ]
  },
  {
   "cell_type": "code",
   "execution_count": null,
   "metadata": {},
   "outputs": [],
   "source": []
  }
 ]
}