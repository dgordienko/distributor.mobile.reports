{
 "metadata": {
  "language_info": {
   "codemirror_mode": {
    "name": "ipython",
    "version": 3
   },
   "file_extension": ".py",
   "mimetype": "text/x-python",
   "name": "python",
   "nbconvert_exporter": "python",
   "pygments_lexer": "ipython3",
   "version": "3.9.2-final"
  },
  "orig_nbformat": 2,
  "kernelspec": {
   "name": "python3",
   "display_name": "Python 3.9.2 64-bit ('venv')",
   "metadata": {
    "interpreter": {
     "hash": "41ebd6348c999265156152cedc70467aa463aab3b65be8fc597697197b509ee9"
    }
   }
  }
 },
 "nbformat": 4,
 "nbformat_minor": 2,
 "cells": [
  {
   "cell_type": "code",
   "execution_count": 1,
   "metadata": {},
   "outputs": [
    {
     "output_type": "stream",
     "name": "stdout",
     "text": [
      " РН созданные 2021-03-22\n"
     ]
    }
   ],
   "source": [
    "import pandas as pd\n",
    "print(' РН созданные 2021-03-22')"
   ]
  },
  {
   "cell_type": "code",
   "execution_count": 2,
   "metadata": {},
   "outputs": [
    {
     "output_type": "stream",
     "name": "stdout",
     "text": [
      "Все расходные накладные с группировкой по контрактам\n"
     ]
    },
    {
     "output_type": "execute_result",
     "data": {
      "text/plain": [
       "               Всего РН\n",
       "CONTRACT_NAME          \n",
       "ЗАМ                 411\n",
       "ЛИМО                210\n",
       "МАК ВИН             711\n",
       "ПИВО                271\n",
       "Сандора             365\n",
       "ХОЛОД              1058"
      ],
      "text/html": "<div>\n<style scoped>\n    .dataframe tbody tr th:only-of-type {\n        vertical-align: middle;\n    }\n\n    .dataframe tbody tr th {\n        vertical-align: top;\n    }\n\n    .dataframe thead th {\n        text-align: right;\n    }\n</style>\n<table border=\"1\" class=\"dataframe\">\n  <thead>\n    <tr style=\"text-align: right;\">\n      <th></th>\n      <th>Всего РН</th>\n    </tr>\n    <tr>\n      <th>CONTRACT_NAME</th>\n      <th></th>\n    </tr>\n  </thead>\n  <tbody>\n    <tr>\n      <th>ЗАМ</th>\n      <td>411</td>\n    </tr>\n    <tr>\n      <th>ЛИМО</th>\n      <td>210</td>\n    </tr>\n    <tr>\n      <th>МАК ВИН</th>\n      <td>711</td>\n    </tr>\n    <tr>\n      <th>ПИВО</th>\n      <td>271</td>\n    </tr>\n    <tr>\n      <th>Сандора</th>\n      <td>365</td>\n    </tr>\n    <tr>\n      <th>ХОЛОД</th>\n      <td>1058</td>\n    </tr>\n  </tbody>\n</table>\n</div>"
     },
     "metadata": {},
     "execution_count": 2
    }
   ],
   "source": [
    "orders = pd.read_csv('with_transactor_as_v_td_dic_transactor_.csv')\n",
    "orders = orders[orders['CREATE_DATE'] == '2021-03-22 00:00:00']\n",
    "by_contracts = orders.groupby('CONTRACT_NAME').count()\n",
    "by_contracts = by_contracts[['ROWID']]\n",
    "by_contracts = by_contracts.rename(columns={'ROWID':'Всего РН'})\n",
    "print('Все расходные накладные с группировкой по контрактам')\n",
    "by_contracts"
   ]
  },
  {
   "cell_type": "code",
   "execution_count": 3,
   "metadata": {},
   "outputs": [
    {
     "output_type": "stream",
     "name": "stdout",
     "text": [
      "Все расходные накладные исключая контракт ПИВО c группировкой по создавшему\n"
     ]
    },
    {
     "output_type": "execute_result",
     "data": {
      "text/plain": [
       "               Всего создано\n",
       "CREATED_BY                  \n",
       "admin                   1321\n",
       "kokhan                   262\n",
       "kharchenko.v             229\n",
       "chernysheva              212\n",
       "bulak                    177\n",
       "ksenofontova             125\n",
       "shchikovskaya             87\n",
       "golovina                  77\n",
       "markova                   74\n",
       "sachivkina                58\n",
       "shcherbopian              57\n",
       "kryat                     45\n",
       "shumilina                 11\n",
       "potapov                    5\n",
       "klimov                     5\n",
       "krasnikova                 4\n",
       "kuteyko_n                  2\n",
       "kozyrev                    2\n",
       "kovalenko                  1\n",
       "diachok                    1"
      ],
      "text/html": "<div>\n<style scoped>\n    .dataframe tbody tr th:only-of-type {\n        vertical-align: middle;\n    }\n\n    .dataframe tbody tr th {\n        vertical-align: top;\n    }\n\n    .dataframe thead th {\n        text-align: right;\n    }\n</style>\n<table border=\"1\" class=\"dataframe\">\n  <thead>\n    <tr style=\"text-align: right;\">\n      <th></th>\n      <th>Всего создано</th>\n    </tr>\n    <tr>\n      <th>CREATED_BY</th>\n      <th></th>\n    </tr>\n  </thead>\n  <tbody>\n    <tr>\n      <th>admin</th>\n      <td>1321</td>\n    </tr>\n    <tr>\n      <th>kokhan</th>\n      <td>262</td>\n    </tr>\n    <tr>\n      <th>kharchenko.v</th>\n      <td>229</td>\n    </tr>\n    <tr>\n      <th>chernysheva</th>\n      <td>212</td>\n    </tr>\n    <tr>\n      <th>bulak</th>\n      <td>177</td>\n    </tr>\n    <tr>\n      <th>ksenofontova</th>\n      <td>125</td>\n    </tr>\n    <tr>\n      <th>shchikovskaya</th>\n      <td>87</td>\n    </tr>\n    <tr>\n      <th>golovina</th>\n      <td>77</td>\n    </tr>\n    <tr>\n      <th>markova</th>\n      <td>74</td>\n    </tr>\n    <tr>\n      <th>sachivkina</th>\n      <td>58</td>\n    </tr>\n    <tr>\n      <th>shcherbopian</th>\n      <td>57</td>\n    </tr>\n    <tr>\n      <th>kryat</th>\n      <td>45</td>\n    </tr>\n    <tr>\n      <th>shumilina</th>\n      <td>11</td>\n    </tr>\n    <tr>\n      <th>potapov</th>\n      <td>5</td>\n    </tr>\n    <tr>\n      <th>klimov</th>\n      <td>5</td>\n    </tr>\n    <tr>\n      <th>krasnikova</th>\n      <td>4</td>\n    </tr>\n    <tr>\n      <th>kuteyko_n</th>\n      <td>2</td>\n    </tr>\n    <tr>\n      <th>kozyrev</th>\n      <td>2</td>\n    </tr>\n    <tr>\n      <th>kovalenko</th>\n      <td>1</td>\n    </tr>\n    <tr>\n      <th>diachok</th>\n      <td>1</td>\n    </tr>\n  </tbody>\n</table>\n</div>"
     },
     "metadata": {},
     "execution_count": 3
    }
   ],
   "source": [
    "### Все расходные накладные исключая контракт 'ПИВО' c группировкой по создателю\n",
    "orders_created_by = orders[orders['CONTRACT_NAME'] != 'ПИВО'].groupby('CREATED_BY').count()\n",
    "orders_created_by = orders_created_by[['ROWID']].sort_values('ROWID',ascending=False)\n",
    "orders_created_by = orders_created_by.rename(columns={\"ROWID\":\"Всего создано\"})\n",
    "print('Все расходные накладные исключая контракт ПИВО c группировкой по создавшему')\n",
    "orders_created_by"
   ]
  },
  {
   "cell_type": "code",
   "execution_count": 4,
   "metadata": {},
   "outputs": [
    {
     "output_type": "stream",
     "name": "stdout",
     "text": [
      "Все расходные накладные с группировкой по контрактам исключая контракт ПИВО\n"
     ]
    },
    {
     "output_type": "execute_result",
     "data": {
      "text/plain": [
       "               Всего РН\n",
       "CONTRACT_NAME          \n",
       "ЗАМ                 411\n",
       "ЛИМО                210\n",
       "МАК ВИН             711\n",
       "Сандора             365\n",
       "ХОЛОД              1058"
      ],
      "text/html": "<div>\n<style scoped>\n    .dataframe tbody tr th:only-of-type {\n        vertical-align: middle;\n    }\n\n    .dataframe tbody tr th {\n        vertical-align: top;\n    }\n\n    .dataframe thead th {\n        text-align: right;\n    }\n</style>\n<table border=\"1\" class=\"dataframe\">\n  <thead>\n    <tr style=\"text-align: right;\">\n      <th></th>\n      <th>Всего РН</th>\n    </tr>\n    <tr>\n      <th>CONTRACT_NAME</th>\n      <th></th>\n    </tr>\n  </thead>\n  <tbody>\n    <tr>\n      <th>ЗАМ</th>\n      <td>411</td>\n    </tr>\n    <tr>\n      <th>ЛИМО</th>\n      <td>210</td>\n    </tr>\n    <tr>\n      <th>МАК ВИН</th>\n      <td>711</td>\n    </tr>\n    <tr>\n      <th>Сандора</th>\n      <td>365</td>\n    </tr>\n    <tr>\n      <th>ХОЛОД</th>\n      <td>1058</td>\n    </tr>\n  </tbody>\n</table>\n</div>"
     },
     "metadata": {},
     "execution_count": 4
    }
   ],
   "source": [
    "except_bear = orders[orders['CONTRACT_NAME'] != 'ПИВО'].groupby('CONTRACT_NAME').count()\n",
    "except_bear = except_bear[['ROWID']]\n",
    "except_bear = except_bear.rename(columns={'ROWID':'Всего РН'})\n",
    "print('Все расходные накладные с группировкой по контрактам исключая контракт ПИВО')\n",
    "except_bear"
   ]
  },
  {
   "cell_type": "code",
   "execution_count": 5,
   "metadata": {},
   "outputs": [
    {
     "output_type": "stream",
     "name": "stdout",
     "text": [
      "Все расходные накладные с группировкой по контрактам созданные Distributor.Mobile 3.52\n"
     ]
    },
    {
     "output_type": "execute_result",
     "data": {
      "text/plain": [
       "               Distributor.Mobile\n",
       "CONTRACT_NAME                    \n",
       "ЗАМ                           217\n",
       "ЛИМО                           75\n",
       "МАК ВИН                       380\n",
       "Сандора                       149\n",
       "ХОЛОД                         500"
      ],
      "text/html": "<div>\n<style scoped>\n    .dataframe tbody tr th:only-of-type {\n        vertical-align: middle;\n    }\n\n    .dataframe tbody tr th {\n        vertical-align: top;\n    }\n\n    .dataframe thead th {\n        text-align: right;\n    }\n</style>\n<table border=\"1\" class=\"dataframe\">\n  <thead>\n    <tr style=\"text-align: right;\">\n      <th></th>\n      <th>Distributor.Mobile</th>\n    </tr>\n    <tr>\n      <th>CONTRACT_NAME</th>\n      <th></th>\n    </tr>\n  </thead>\n  <tbody>\n    <tr>\n      <th>ЗАМ</th>\n      <td>217</td>\n    </tr>\n    <tr>\n      <th>ЛИМО</th>\n      <td>75</td>\n    </tr>\n    <tr>\n      <th>МАК ВИН</th>\n      <td>380</td>\n    </tr>\n    <tr>\n      <th>Сандора</th>\n      <td>149</td>\n    </tr>\n    <tr>\n      <th>ХОЛОД</th>\n      <td>500</td>\n    </tr>\n  </tbody>\n</table>\n</div>"
     },
     "metadata": {},
     "execution_count": 5
    }
   ],
   "source": [
    "distributor_mobile = orders[orders['CONTRACT_NAME'] != 'ПИВО']\n",
    "distributor_mobile = distributor_mobile[distributor_mobile['CREATED_BY'] == 'admin'].groupby('CONTRACT_NAME').count()\n",
    "distributor_mobile = distributor_mobile[['ROWID']]\n",
    "distributor_mobile = distributor_mobile.rename(columns={'ROWID':'Distributor.Mobile'})\n",
    "print('Все расходные накладные с группировкой по контрактам созданные Distributor.Mobile 3.52')\n",
    "distributor_mobile"
   ]
  },
  {
   "cell_type": "code",
   "execution_count": 6,
   "metadata": {},
   "outputs": [
    {
     "output_type": "stream",
     "name": "stdout",
     "text": [
      "Процент создания РН в Distributor.Mobile\n"
     ]
    },
    {
     "output_type": "execute_result",
     "data": {
      "text/plain": [
       "               Всего РН  Distributor.Mobile     %\n",
       "CONTRACT_NAME                                    \n",
       "ЗАМ                 411                 217  53.0\n",
       "ЛИМО                210                  75  36.0\n",
       "МАК ВИН             711                 380  53.0\n",
       "Сандора             365                 149  41.0\n",
       "ХОЛОД              1058                 500  47.0"
      ],
      "text/html": "<div>\n<style scoped>\n    .dataframe tbody tr th:only-of-type {\n        vertical-align: middle;\n    }\n\n    .dataframe tbody tr th {\n        vertical-align: top;\n    }\n\n    .dataframe thead th {\n        text-align: right;\n    }\n</style>\n<table border=\"1\" class=\"dataframe\">\n  <thead>\n    <tr style=\"text-align: right;\">\n      <th></th>\n      <th>Всего РН</th>\n      <th>Distributor.Mobile</th>\n      <th>%</th>\n    </tr>\n    <tr>\n      <th>CONTRACT_NAME</th>\n      <th></th>\n      <th></th>\n      <th></th>\n    </tr>\n  </thead>\n  <tbody>\n    <tr>\n      <th>ЗАМ</th>\n      <td>411</td>\n      <td>217</td>\n      <td>53.0</td>\n    </tr>\n    <tr>\n      <th>ЛИМО</th>\n      <td>210</td>\n      <td>75</td>\n      <td>36.0</td>\n    </tr>\n    <tr>\n      <th>МАК ВИН</th>\n      <td>711</td>\n      <td>380</td>\n      <td>53.0</td>\n    </tr>\n    <tr>\n      <th>Сандора</th>\n      <td>365</td>\n      <td>149</td>\n      <td>41.0</td>\n    </tr>\n    <tr>\n      <th>ХОЛОД</th>\n      <td>1058</td>\n      <td>500</td>\n      <td>47.0</td>\n    </tr>\n  </tbody>\n</table>\n</div>"
     },
     "metadata": {},
     "execution_count": 6
    }
   ],
   "source": [
    "report = pd.concat([except_bear,distributor_mobile], axis=1, join=\"inner\")\n",
    "report['%'] = round(report['Distributor.Mobile']/report['Всего РН'] * 100)\n",
    "print('Процент создания РН в Distributor.Mobile')\n",
    "report"
   ]
  }
 ]
}