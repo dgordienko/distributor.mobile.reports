{
 "metadata": {
  "language_info": {
   "codemirror_mode": {
    "name": "ipython",
    "version": 3
   },
   "file_extension": ".py",
   "mimetype": "text/x-python",
   "name": "python",
   "nbconvert_exporter": "python",
   "pygments_lexer": "ipython3",
   "version": "3.9.2-final"
  },
  "orig_nbformat": 2,
  "kernelspec": {
   "name": "python3",
   "display_name": "Python 3.9.2 64-bit ('venv')",
   "metadata": {
    "interpreter": {
     "hash": "41ebd6348c999265156152cedc70467aa463aab3b65be8fc597697197b509ee9"
    }
   }
  }
 },
 "nbformat": 4,
 "nbformat_minor": 2,
 "cells": [
  {
   "cell_type": "code",
   "execution_count": 7,
   "metadata": {},
   "outputs": [
    {
     "output_type": "stream",
     "name": "stdout",
     "text": [
      " РН созданные 2021-03-23\n"
     ]
    }
   ],
   "source": [
    "import pandas as pd\n",
    "print(' РН созданные 2021-03-23')"
   ]
  },
  {
   "cell_type": "code",
   "execution_count": 10,
   "metadata": {},
   "outputs": [
    {
     "output_type": "stream",
     "name": "stdout",
     "text": [
      "Все расходные накладные с группировкой по контрактам\n"
     ]
    },
    {
     "output_type": "execute_result",
     "data": {
      "text/plain": [
       "               Всего РН\n",
       "CONTRACT_NAME          \n",
       "ЗАМ                 267\n",
       "ЛИМО                176\n",
       "МАК ВИН             553\n",
       "ПИВО                224\n",
       "Сандора             248\n",
       "ХОЛОД               703"
      ],
      "text/html": "<div>\n<style scoped>\n    .dataframe tbody tr th:only-of-type {\n        vertical-align: middle;\n    }\n\n    .dataframe tbody tr th {\n        vertical-align: top;\n    }\n\n    .dataframe thead th {\n        text-align: right;\n    }\n</style>\n<table border=\"1\" class=\"dataframe\">\n  <thead>\n    <tr style=\"text-align: right;\">\n      <th></th>\n      <th>Всего РН</th>\n    </tr>\n    <tr>\n      <th>CONTRACT_NAME</th>\n      <th></th>\n    </tr>\n  </thead>\n  <tbody>\n    <tr>\n      <th>ЗАМ</th>\n      <td>267</td>\n    </tr>\n    <tr>\n      <th>ЛИМО</th>\n      <td>176</td>\n    </tr>\n    <tr>\n      <th>МАК ВИН</th>\n      <td>553</td>\n    </tr>\n    <tr>\n      <th>ПИВО</th>\n      <td>224</td>\n    </tr>\n    <tr>\n      <th>Сандора</th>\n      <td>248</td>\n    </tr>\n    <tr>\n      <th>ХОЛОД</th>\n      <td>703</td>\n    </tr>\n  </tbody>\n</table>\n</div>"
     },
     "metadata": {},
     "execution_count": 10
    }
   ],
   "source": [
    "orders = pd.read_csv('23-03-2021.csv')\n",
    "orders = orders[orders['CREATE_DATE'] == '2021-03-23 00:00:00']\n",
    "by_contracts = orders.groupby('CONTRACT_NAME').count()\n",
    "by_contracts = by_contracts[['ROWID']]\n",
    "by_contracts = by_contracts.rename(columns={'ROWID':'Всего РН'})\n",
    "print('Все расходные накладные с группировкой по контрактам')\n",
    "by_contracts"
   ]
  },
  {
   "cell_type": "code",
   "execution_count": 11,
   "metadata": {},
   "outputs": [
    {
     "output_type": "stream",
     "name": "stdout",
     "text": [
      "Все расходные накладные исключая контракт ПИВО c группировкой по создавшему\n"
     ]
    },
    {
     "output_type": "execute_result",
     "data": {
      "text/plain": [
       "               Всего создано\n",
       "CREATED_BY                  \n",
       "admin                    848\n",
       "chernysheva              182\n",
       "kharchenko.v             161\n",
       "bulak                    155\n",
       "kokhan                   150\n",
       "ksenofontova             101\n",
       "golovina                  74\n",
       "shchikovskaya             58\n",
       "shcherbopian              49\n",
       "sachivkina                45\n",
       "markova                   37\n",
       "ta                        34\n",
       "kryat                     32\n",
       "shumilina                 12\n",
       "komarova                   4\n",
       "torubara                   3\n",
       "diachok                    1\n",
       "rybkina                    1"
      ],
      "text/html": "<div>\n<style scoped>\n    .dataframe tbody tr th:only-of-type {\n        vertical-align: middle;\n    }\n\n    .dataframe tbody tr th {\n        vertical-align: top;\n    }\n\n    .dataframe thead th {\n        text-align: right;\n    }\n</style>\n<table border=\"1\" class=\"dataframe\">\n  <thead>\n    <tr style=\"text-align: right;\">\n      <th></th>\n      <th>Всего создано</th>\n    </tr>\n    <tr>\n      <th>CREATED_BY</th>\n      <th></th>\n    </tr>\n  </thead>\n  <tbody>\n    <tr>\n      <th>admin</th>\n      <td>848</td>\n    </tr>\n    <tr>\n      <th>chernysheva</th>\n      <td>182</td>\n    </tr>\n    <tr>\n      <th>kharchenko.v</th>\n      <td>161</td>\n    </tr>\n    <tr>\n      <th>bulak</th>\n      <td>155</td>\n    </tr>\n    <tr>\n      <th>kokhan</th>\n      <td>150</td>\n    </tr>\n    <tr>\n      <th>ksenofontova</th>\n      <td>101</td>\n    </tr>\n    <tr>\n      <th>golovina</th>\n      <td>74</td>\n    </tr>\n    <tr>\n      <th>shchikovskaya</th>\n      <td>58</td>\n    </tr>\n    <tr>\n      <th>shcherbopian</th>\n      <td>49</td>\n    </tr>\n    <tr>\n      <th>sachivkina</th>\n      <td>45</td>\n    </tr>\n    <tr>\n      <th>markova</th>\n      <td>37</td>\n    </tr>\n    <tr>\n      <th>ta</th>\n      <td>34</td>\n    </tr>\n    <tr>\n      <th>kryat</th>\n      <td>32</td>\n    </tr>\n    <tr>\n      <th>shumilina</th>\n      <td>12</td>\n    </tr>\n    <tr>\n      <th>komarova</th>\n      <td>4</td>\n    </tr>\n    <tr>\n      <th>torubara</th>\n      <td>3</td>\n    </tr>\n    <tr>\n      <th>diachok</th>\n      <td>1</td>\n    </tr>\n    <tr>\n      <th>rybkina</th>\n      <td>1</td>\n    </tr>\n  </tbody>\n</table>\n</div>"
     },
     "metadata": {},
     "execution_count": 11
    }
   ],
   "source": [
    "### Все расходные накладные исключая контракт 'ПИВО' c группировкой по создателю\n",
    "orders_created_by = orders[orders['CONTRACT_NAME'] != 'ПИВО'].groupby('CREATED_BY').count()\n",
    "orders_created_by = orders_created_by[['ROWID']].sort_values('ROWID',ascending=False)\n",
    "orders_created_by = orders_created_by.rename(columns={\"ROWID\":\"Всего создано\"})\n",
    "print('Все расходные накладные исключая контракт ПИВО c группировкой по создавшему')\n",
    "orders_created_by"
   ]
  },
  {
   "cell_type": "code",
   "execution_count": 12,
   "metadata": {},
   "outputs": [
    {
     "output_type": "stream",
     "name": "stdout",
     "text": [
      "Все расходные накладные с группировкой по контрактам исключая контракт ПИВО\n"
     ]
    },
    {
     "output_type": "execute_result",
     "data": {
      "text/plain": [
       "               Всего РН\n",
       "CONTRACT_NAME          \n",
       "ЗАМ                 267\n",
       "ЛИМО                176\n",
       "МАК ВИН             553\n",
       "Сандора             248\n",
       "ХОЛОД               703"
      ],
      "text/html": "<div>\n<style scoped>\n    .dataframe tbody tr th:only-of-type {\n        vertical-align: middle;\n    }\n\n    .dataframe tbody tr th {\n        vertical-align: top;\n    }\n\n    .dataframe thead th {\n        text-align: right;\n    }\n</style>\n<table border=\"1\" class=\"dataframe\">\n  <thead>\n    <tr style=\"text-align: right;\">\n      <th></th>\n      <th>Всего РН</th>\n    </tr>\n    <tr>\n      <th>CONTRACT_NAME</th>\n      <th></th>\n    </tr>\n  </thead>\n  <tbody>\n    <tr>\n      <th>ЗАМ</th>\n      <td>267</td>\n    </tr>\n    <tr>\n      <th>ЛИМО</th>\n      <td>176</td>\n    </tr>\n    <tr>\n      <th>МАК ВИН</th>\n      <td>553</td>\n    </tr>\n    <tr>\n      <th>Сандора</th>\n      <td>248</td>\n    </tr>\n    <tr>\n      <th>ХОЛОД</th>\n      <td>703</td>\n    </tr>\n  </tbody>\n</table>\n</div>"
     },
     "metadata": {},
     "execution_count": 12
    }
   ],
   "source": [
    "except_bear = orders[orders['CONTRACT_NAME'] != 'ПИВО'].groupby('CONTRACT_NAME').count()\n",
    "except_bear = except_bear[['ROWID']]\n",
    "except_bear = except_bear.rename(columns={'ROWID':'Всего РН'})\n",
    "print('Все расходные накладные с группировкой по контрактам исключая контракт ПИВО')\n",
    "except_bear"
   ]
  },
  {
   "cell_type": "code",
   "execution_count": 13,
   "metadata": {},
   "outputs": [
    {
     "output_type": "stream",
     "name": "stdout",
     "text": [
      "Все расходные накладные с группировкой по контрактам созданные Distributor.Mobile 3.52\n"
     ]
    },
    {
     "output_type": "execute_result",
     "data": {
      "text/plain": [
       "               Distributor.Mobile\n",
       "CONTRACT_NAME                    \n",
       "ЗАМ                           130\n",
       "ЛИМО                           64\n",
       "МАК ВИН                       253\n",
       "Сандора                        93\n",
       "ХОЛОД                         308"
      ],
      "text/html": "<div>\n<style scoped>\n    .dataframe tbody tr th:only-of-type {\n        vertical-align: middle;\n    }\n\n    .dataframe tbody tr th {\n        vertical-align: top;\n    }\n\n    .dataframe thead th {\n        text-align: right;\n    }\n</style>\n<table border=\"1\" class=\"dataframe\">\n  <thead>\n    <tr style=\"text-align: right;\">\n      <th></th>\n      <th>Distributor.Mobile</th>\n    </tr>\n    <tr>\n      <th>CONTRACT_NAME</th>\n      <th></th>\n    </tr>\n  </thead>\n  <tbody>\n    <tr>\n      <th>ЗАМ</th>\n      <td>130</td>\n    </tr>\n    <tr>\n      <th>ЛИМО</th>\n      <td>64</td>\n    </tr>\n    <tr>\n      <th>МАК ВИН</th>\n      <td>253</td>\n    </tr>\n    <tr>\n      <th>Сандора</th>\n      <td>93</td>\n    </tr>\n    <tr>\n      <th>ХОЛОД</th>\n      <td>308</td>\n    </tr>\n  </tbody>\n</table>\n</div>"
     },
     "metadata": {},
     "execution_count": 13
    }
   ],
   "source": [
    "distributor_mobile = orders[orders['CONTRACT_NAME'] != 'ПИВО']\n",
    "distributor_mobile = distributor_mobile[distributor_mobile['CREATED_BY'] == 'admin'].groupby('CONTRACT_NAME').count()\n",
    "distributor_mobile = distributor_mobile[['ROWID']]\n",
    "distributor_mobile = distributor_mobile.rename(columns={'ROWID':'Distributor.Mobile'})\n",
    "print('Все расходные накладные с группировкой по контрактам созданные Distributor.Mobile 3.52')\n",
    "distributor_mobile"
   ]
  },
  {
   "cell_type": "code",
   "execution_count": 14,
   "metadata": {},
   "outputs": [
    {
     "output_type": "stream",
     "name": "stdout",
     "text": [
      "Процент создания РН в Distributor.Mobile\n"
     ]
    },
    {
     "output_type": "execute_result",
     "data": {
      "text/plain": [
       "               Всего РН  Distributor.Mobile     %\n",
       "CONTRACT_NAME                                    \n",
       "ЗАМ                 267                 130  49.0\n",
       "ЛИМО                176                  64  36.0\n",
       "МАК ВИН             553                 253  46.0\n",
       "Сандора             248                  93  38.0\n",
       "ХОЛОД               703                 308  44.0"
      ],
      "text/html": "<div>\n<style scoped>\n    .dataframe tbody tr th:only-of-type {\n        vertical-align: middle;\n    }\n\n    .dataframe tbody tr th {\n        vertical-align: top;\n    }\n\n    .dataframe thead th {\n        text-align: right;\n    }\n</style>\n<table border=\"1\" class=\"dataframe\">\n  <thead>\n    <tr style=\"text-align: right;\">\n      <th></th>\n      <th>Всего РН</th>\n      <th>Distributor.Mobile</th>\n      <th>%</th>\n    </tr>\n    <tr>\n      <th>CONTRACT_NAME</th>\n      <th></th>\n      <th></th>\n      <th></th>\n    </tr>\n  </thead>\n  <tbody>\n    <tr>\n      <th>ЗАМ</th>\n      <td>267</td>\n      <td>130</td>\n      <td>49.0</td>\n    </tr>\n    <tr>\n      <th>ЛИМО</th>\n      <td>176</td>\n      <td>64</td>\n      <td>36.0</td>\n    </tr>\n    <tr>\n      <th>МАК ВИН</th>\n      <td>553</td>\n      <td>253</td>\n      <td>46.0</td>\n    </tr>\n    <tr>\n      <th>Сандора</th>\n      <td>248</td>\n      <td>93</td>\n      <td>38.0</td>\n    </tr>\n    <tr>\n      <th>ХОЛОД</th>\n      <td>703</td>\n      <td>308</td>\n      <td>44.0</td>\n    </tr>\n  </tbody>\n</table>\n</div>"
     },
     "metadata": {},
     "execution_count": 14
    }
   ],
   "source": [
    "report = pd.concat([except_bear,distributor_mobile], axis=1, join=\"inner\")\n",
    "report['%'] = round(report['Distributor.Mobile']/report['Всего РН'] * 100)\n",
    "print('Процент создания РН в Distributor.Mobile')\n",
    "report"
   ]
  },
  {
   "cell_type": "code",
   "execution_count": null,
   "metadata": {},
   "outputs": [],
   "source": []
  }
 ]
}